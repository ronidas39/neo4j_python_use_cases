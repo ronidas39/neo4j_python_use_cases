{
 "cells": [
  {
   "cell_type": "code",
   "execution_count": 34,
   "metadata": {},
   "outputs": [],
   "source": [
    "import pandas as pd\n",
    "import io\n",
    "df=pd.read_excel(\"test.xlsx\")\n",
    "md5s=df[\"md5\"].unique()\n",
    "\n",
    "with io.open(\"data.csv\",\"w\",encoding=\"utf-8\")as f1:\n",
    " for md5 in md5s:\n",
    "  f1.write(md5+\",\"+\"|\".join(list(df.groupby(\"md5\")[\"file_path\"].get_group(md5)))+\"\\n\")"
   ]
  },
  {
   "cell_type": "code",
   "execution_count": 3,
   "metadata": {},
   "outputs": [],
   "source": []
  },
  {
   "cell_type": "code",
   "execution_count": 33,
   "metadata": {},
   "outputs": [
    {
     "name": "stdout",
     "output_type": "stream",
     "text": [
      "2344rfcd ['c:/desktop/tests ', 'e:/data/oil', 'v:/tests/run']\n",
      "445567se ['c:/desktop/data', 'e:/data/oil', 'c:/desktop/tests ', 'v:/tests/run']\n",
      "777ma33 ['d:/document/tests']\n",
      "624df233 ['d:/document/data']\n",
      "22123fe ['d:/document/notebooks', 'e:/notebooks/summary']\n",
      "2345gf2 ['e:/dump/oil']\n"
     ]
    }
   ],
   "source": []
  }
 ],
 "metadata": {
  "kernelspec": {
   "display_name": "Python 3",
   "language": "python",
   "name": "python3"
  },
  "language_info": {
   "codemirror_mode": {
    "name": "ipython",
    "version": 3
   },
   "file_extension": ".py",
   "mimetype": "text/x-python",
   "name": "python",
   "nbconvert_exporter": "python",
   "pygments_lexer": "ipython3",
   "version": "3.7.6"
  }
 },
 "nbformat": 4,
 "nbformat_minor": 4
}
