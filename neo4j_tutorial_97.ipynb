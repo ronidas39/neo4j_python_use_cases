{
 "cells": [
  {
   "cell_type": "markdown",
   "metadata": {},
   "source": [
    "# tutorial 97, creating multiple neo4j nodes using apoc procedure ,from csv input"
   ]
  },
  {
   "cell_type": "code",
   "execution_count": 16,
   "metadata": {},
   "outputs": [],
   "source": [
    "import io\n",
    "with io.open(\"input.txt\",\"r\",encoding=\"utf-8\")as f1:\n",
    "    data=f1.read()\n",
    "    f1.close()"
   ]
  },
  {
   "cell_type": "code",
   "execution_count": 17,
   "metadata": {},
   "outputs": [
    {
     "data": {
      "text/plain": [
       "['roni,4', 'rahul,5', 'kevin,7', 'kiara,8', 'Nancy,9']"
      ]
     },
     "execution_count": 17,
     "metadata": {},
     "output_type": "execute_result"
    }
   ],
   "source": [
    "data=data.split(\"\\n\")[1:]\n",
    "data"
   ]
  },
  {
   "cell_type": "code",
   "execution_count": 18,
   "metadata": {},
   "outputs": [
    {
     "data": {
      "text/plain": [
       "[{'NAME': 'roni', 'ID': '4'},\n",
       " {'NAME': 'rahul', 'ID': '5'},\n",
       " {'NAME': 'kevin', 'ID': '7'},\n",
       " {'NAME': 'kiara', 'ID': '8'},\n",
       " {'NAME': 'Nancy', 'ID': '9'}]"
      ]
     },
     "execution_count": 18,
     "metadata": {},
     "output_type": "execute_result"
    }
   ],
   "source": [
    "dc=[]\n",
    "for row in data:\n",
    "    dc.append({\"NAME\":row.split(\",\")[0],\"ID\":row.split(\",\")[1]})\n",
    "dc"
   ]
  },
  {
   "cell_type": "code",
   "execution_count": 19,
   "metadata": {},
   "outputs": [
    {
     "data": {
      "text/plain": [
       "<neo4j.work.result.Result at 0x7ff67f805250>"
      ]
     },
     "execution_count": 19,
     "metadata": {},
     "output_type": "execute_result"
    }
   ],
   "source": [
    "q1=\"\"\"\n",
    "call apoc.create.nodes([$label],$map)\n",
    "\"\"\"\n",
    "x={\"label\":\"Studen\",\"map\":dc}\n",
    "session.run(q1,x)"
   ]
  },
  {
   "cell_type": "code",
   "execution_count": null,
   "metadata": {},
   "outputs": [],
   "source": []
  }
 ],
 "metadata": {
  "kernelspec": {
   "display_name": "Python 3",
   "language": "python",
   "name": "python3"
  },
  "language_info": {
   "codemirror_mode": {
    "name": "ipython",
    "version": 3
   },
   "file_extension": ".py",
   "mimetype": "text/x-python",
   "name": "python",
   "nbconvert_exporter": "python",
   "pygments_lexer": "ipython3",
   "version": "3.7.6"
  }
 },
 "nbformat": 4,
 "nbformat_minor": 4
}
